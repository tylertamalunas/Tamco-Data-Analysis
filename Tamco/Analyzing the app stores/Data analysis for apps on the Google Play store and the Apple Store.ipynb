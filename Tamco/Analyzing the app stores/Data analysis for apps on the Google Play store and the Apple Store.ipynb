{
 "cells": [
  {
   "cell_type": "markdown",
   "metadata": {},
   "source": [
    "# Tamco Apps\n",
    "\n",
    "This project is used to show my skills to use data analytics in order to analyze data from a csv file about apps on Google Play and the App Store.\n",
    "\n",
    "This will imitate analyzing data for a company that only builds free apps and gains revenue from ads. This data will be used to help developers understand what types of apps are likely to attract customers. "
   ]
  },
  {
   "cell_type": "code",
   "execution_count": 1,
   "metadata": {},
   "outputs": [],
   "source": [
    "from csv import reader\n",
    "\n",
    "#Apple Store csv file\n",
    "opened_file = open('AppleStore.csv')\n",
    "read_file = reader(opened_file)\n",
    "apple = list(read_file)\n",
    "apple_header = apple[0]\n",
    "apple = apple[1:]\n",
    "\n",
    "#Google Play store\n",
    "opened_file = open('googleplaystore.csv')\n",
    "read_file = reader(opened_file)\n",
    "android = list(read_file)\n",
    "android_header = android[0]\n",
    "android = android[1:]"
   ]
  },
  {
   "cell_type": "code",
   "execution_count": 2,
   "metadata": {},
   "outputs": [],
   "source": [
    "def explore_data(dataset, start, end, rows_and_columns=False):\n",
    "    dataset_slice = dataset[start:end]\n",
    "    for row in dataset_slice:\n",
    "        print(row)\n",
    "        print('\\n') \n",
    "        \n",
    "    if rows_and_columns:\n",
    "        print('Number of rows:', len(dataset))\n",
    "        print('Number of columns:', len(dataset[0]))"
   ]
  },
  {
   "cell_type": "code",
   "execution_count": 3,
   "metadata": {
    "collapsed": true
   },
   "outputs": [
    {
     "name": "stdout",
     "output_type": "stream",
     "text": [
      "['id', 'track_name', 'size_bytes', 'currency', 'price', 'rating_count_tot', 'rating_count_ver', 'user_rating', 'user_rating_ver', 'ver', 'cont_rating', 'prime_genre', 'sup_devices.num', 'ipadSc_urls.num', 'lang.num', 'vpp_lic']\n",
      "\n",
      "\n",
      "['284882215', 'Facebook', '389879808', 'USD', '0', '2974676', '212', '3.5', '3.5', '95', '4+', 'Social Networking', '37', '1', '29', '1']\n",
      "\n",
      "\n",
      "['389801252', 'Instagram', '113954816', 'USD', '0', '2161558', '1289', '4.5', '4', '10.23', '12+', 'Photo & Video', '37', '0', '29', '1']\n",
      "\n",
      "\n",
      "['529479190', 'Clash of Clans', '116476928', 'USD', '0', '2130805', '579', '4.5', '4.5', '9.24.12', '9+', 'Games', '38', '5', '18', '1']\n",
      "\n",
      "\n",
      "Number of rows: 7197\n",
      "Number of columns: 16\n"
     ]
    }
   ],
   "source": [
    "print(apple_header)\n",
    "print('\\n')\n",
    "explore_data(apple, 0, 3, True)"
   ]
  },
  {
   "cell_type": "code",
   "execution_count": 4,
   "metadata": {
    "collapsed": true
   },
   "outputs": [
    {
     "name": "stdout",
     "output_type": "stream",
     "text": [
      "['App', 'Category', 'Rating', 'Reviews', 'Size', 'Installs', 'Type', 'Price', 'Content Rating', 'Genres', 'Last Updated', 'Current Ver', 'Android Ver']\n",
      "\n",
      "\n",
      "['Photo Editor & Candy Camera & Grid & ScrapBook', 'ART_AND_DESIGN', '4.1', '159', '19M', '10,000+', 'Free', '0', 'Everyone', 'Art & Design', 'January 7, 2018', '1.0.0', '4.0.3 and up']\n",
      "\n",
      "\n",
      "['Coloring book moana', 'ART_AND_DESIGN', '3.9', '967', '14M', '500,000+', 'Free', '0', 'Everyone', 'Art & Design', 'January 15, 2018', '2.0.0', '4.0.3 and up']\n",
      "\n",
      "\n",
      "['U Launcher Lite – FREE Live Cool Themes, Hide Apps', 'ART_AND_DESIGN', '4.7', '87510', '8.7M', '5,000,000+', 'Free', '0', 'Everyone', 'Art & Design', 'August 1, 2018', '1.2.4', '4.0.3 and up']\n",
      "\n",
      "\n",
      "Number of rows: 10841\n",
      "Number of columns: 13\n"
     ]
    }
   ],
   "source": [
    "print(android_header)\n",
    "print('\\n')\n",
    "explore_data(android, 0, 3, True)"
   ]
  },
  {
   "cell_type": "markdown",
   "metadata": {},
   "source": [
    "Possible columns of interest for google play store are:\n",
    "- app: name of app\n",
    "- category: type of app\n",
    "- rating: user rating of the app\n",
    "- installs: how many users there are\n",
    "- price: cost of the app\n",
    "- genres: app genre\n",
    "\n",
    "Possible columns of interest for apple store:\n",
    "- track_name: name of app\n",
    "- price: cost of the app\n",
    "- user_rating: rating on app store\n",
    "- prime_genre: app genre\n",
    "- rating_count_tot: total ratings (closest thing to how many users there are)"
   ]
  },
  {
   "cell_type": "markdown",
   "metadata": {},
   "source": [
    "# Data Cleaning\n",
    "\n",
    "Below I will check the data for errors. "
   ]
  },
  {
   "cell_type": "code",
   "execution_count": 5,
   "metadata": {
    "scrolled": true
   },
   "outputs": [],
   "source": [
    "row_number = 0\n",
    "for row in android:\n",
    "    row_number += 1\n",
    "    if len(row) != len(android_header):\n",
    "        print(row)\n",
    "        print(row_number)"
   ]
  },
  {
   "cell_type": "markdown",
   "metadata": {},
   "source": [
    "# Deleting Data\n",
    "\n",
    "If I needed to delete some of the entries I could use the following:"
   ]
  },
  {
   "cell_type": "code",
   "execution_count": 6,
   "metadata": {},
   "outputs": [],
   "source": [
    "# del android[row_i_want_to_delete]\n",
    "# only run it once\n",
    "# del android[10472]"
   ]
  },
  {
   "cell_type": "markdown",
   "metadata": {},
   "source": [
    "Original output to find errors indicated that there was an error in row 10473 for: \n",
    "\n",
    "['Life Made WI-Fi Touchscreen Photo Frame', '1.9', '19', '3.0M', '1,000+', 'Free', '0', 'Everyone', '', 'February 11, 2018', '1.0.19', '4.0 and up']\n",
    "\n",
    "Looks like there was a column missing for \"Category\". I found out the category it should be, \"Lifestyle\", and added it in. "
   ]
  },
  {
   "cell_type": "markdown",
   "metadata": {},
   "source": [
    "Checking for duplicate apps in the list, I will create two new lists and add all the duplicates to one list, and add the uniques into another list. The number of apps in the duplicate list will show how many duplicates there are.\n",
    "\n",
    "Also, since I know there are duplciates of Instagram in the list, I will print out all the entries for Instagram from the original android list. Since the only difference in these duplciates is the amoutn of reviews, I will keep the entry with the most reviews in the working dataset. "
   ]
  },
  {
   "cell_type": "code",
   "execution_count": 7,
   "metadata": {
    "collapsed": true
   },
   "outputs": [
    {
     "name": "stdout",
     "output_type": "stream",
     "text": [
      "Number of duplicate apps: 1181\n",
      "['Quick PDF Scanner + OCR FREE', 'Box', 'Google My Business', 'ZOOM Cloud Meetings', 'join.me - Simple Meetings']\n",
      "\n",
      "\n",
      "['Twitter', 'NEWS_AND_MAGAZINES', '4.3', '11667403', 'Varies with device', '500,000,000+', 'Free', '0', 'Mature 17+', 'News & Magazines', 'August 6, 2018', 'Varies with device', 'Varies with device']\n",
      "['Twitter', 'NEWS_AND_MAGAZINES', '4.3', '11667403', 'Varies with device', '500,000,000+', 'Free', '0', 'Mature 17+', 'News & Magazines', 'August 6, 2018', 'Varies with device', 'Varies with device']\n",
      "['Twitter', 'NEWS_AND_MAGAZINES', '4.3', '11657972', 'Varies with device', '500,000,000+', 'Free', '0', 'Mature 17+', 'News & Magazines', 'July 30, 2018', 'Varies with device', 'Varies with device']\n"
     ]
    }
   ],
   "source": [
    "duplicate_apps = []\n",
    "unique_apps = []\n",
    "\n",
    "for app in android:\n",
    "    name = app[0]\n",
    "    if name in unique_apps:\n",
    "        duplicate_apps.append(name)\n",
    "    else:\n",
    "        unique_apps.append(name)\n",
    "\n",
    "print(\"Number of duplicate apps: \" + str(len(duplicate_apps)))\n",
    "print(duplicate_apps[:5])\n",
    "print('\\n')\n",
    "\n",
    "for app in android:\n",
    "    name = app[0]\n",
    "    if name == 'Twitter':\n",
    "        print(app)"
   ]
  },
  {
   "cell_type": "markdown",
   "metadata": {},
   "source": [
    "Below I will pick the most up to date entries by putting the entries into a dictionary with the key[value] being name[reviews]. It will use the app row with the most reviews if there are duplicates. \n",
    "\n",
    "Then I will create a new cleaned up list of apps and store it in android_clean."
   ]
  },
  {
   "cell_type": "code",
   "execution_count": 8,
   "metadata": {},
   "outputs": [],
   "source": [
    "reviews_max = {}\n",
    "\n",
    "for app in android:\n",
    "    name = app[0]\n",
    "    number_of_reviews = float(app[3])\n",
    "    if name in reviews_max and reviews_max[name] < number_of_reviews:\n",
    "        reviews_max[name] = number_of_reviews\n",
    "    elif name not in reviews_max:\n",
    "        reviews_max[name] = number_of_reviews"
   ]
  },
  {
   "cell_type": "code",
   "execution_count": 9,
   "metadata": {
    "scrolled": true
   },
   "outputs": [
    {
     "name": "stdout",
     "output_type": "stream",
     "text": [
      "9660\n"
     ]
    }
   ],
   "source": [
    "print(len(reviews_max))"
   ]
  },
  {
   "cell_type": "code",
   "execution_count": 10,
   "metadata": {},
   "outputs": [],
   "source": [
    "android_clean = []\n",
    "android_dup = []\n",
    "\n",
    "for app in android:\n",
    "    name = app[0]\n",
    "    number_of_reviews = float(app[3])\n",
    "    if (number_of_reviews == reviews_max[name]) and (name not in android_dup):\n",
    "        android_clean.append(app)\n",
    "        android_dup.append(name)"
   ]
  },
  {
   "cell_type": "code",
   "execution_count": 11,
   "metadata": {
    "collapsed": true
   },
   "outputs": [
    {
     "name": "stdout",
     "output_type": "stream",
     "text": [
      "['Photo Editor & Candy Camera & Grid & ScrapBook', 'ART_AND_DESIGN', '4.1', '159', '19M', '10,000+', 'Free', '0', 'Everyone', 'Art & Design', 'January 7, 2018', '1.0.0', '4.0.3 and up']\n",
      "\n",
      "\n",
      "['U Launcher Lite – FREE Live Cool Themes, Hide Apps', 'ART_AND_DESIGN', '4.7', '87510', '8.7M', '5,000,000+', 'Free', '0', 'Everyone', 'Art & Design', 'August 1, 2018', '1.2.4', '4.0.3 and up']\n",
      "\n",
      "\n",
      "['Sketch - Draw & Paint', 'ART_AND_DESIGN', '4.5', '215644', '25M', '50,000,000+', 'Free', '0', 'Teen', 'Art & Design', 'June 8, 2018', 'Varies with device', '4.2 and up']\n",
      "\n",
      "\n",
      "Number of rows: 9660\n",
      "Number of columns: 13\n",
      "1181\n"
     ]
    }
   ],
   "source": [
    "explore_data(android_clean, 0, 3, True)\n",
    "print(len(android) - len(android_clean))"
   ]
  },
  {
   "cell_type": "markdown",
   "metadata": {},
   "source": [
    "# Removing non ASCII app names\n",
    "\n",
    "Using the ord() function, we can get the number associated with with each character, and ASCII uses numbers 1-127, so we can remove any apps that have characters outside that range."
   ]
  },
  {
   "cell_type": "code",
   "execution_count": 12,
   "metadata": {},
   "outputs": [],
   "source": [
    "# def is_english(string):\n",
    "#     for letter in string:\n",
    "#             if ord(letter) > 127:\n",
    "#                 return False\n",
    "#     return True\n",
    "\n",
    "# print(is_english('Instagram'))\n",
    "# print(is_english('爱奇艺PPS -《欢乐颂2》电视剧热播'))\n",
    "# print(is_english('Docs To Go™ Free Office Suite'))\n",
    "# print(is_english('Instachat 😜'))"
   ]
  },
  {
   "cell_type": "markdown",
   "metadata": {},
   "source": [
    "The above function returns False even for apps that are english, but have a strange character, which would cause the loss of useful data. To stop this, we will try to put a limit on how many outside characters there can be in the name."
   ]
  },
  {
   "cell_type": "code",
   "execution_count": 13,
   "metadata": {},
   "outputs": [
    {
     "name": "stdout",
     "output_type": "stream",
     "text": [
      "True\n",
      "True\n",
      "False\n"
     ]
    }
   ],
   "source": [
    "def is_english(string):\n",
    "    non_eng = 0\n",
    "    for letter in string:\n",
    "        if ord(letter) > 127:\n",
    "            non_eng += 1\n",
    "            \n",
    "    if non_eng > 3:\n",
    "        return False\n",
    "    else:\n",
    "        return True\n",
    "\n",
    "print(is_english('Instachat 😜'))\n",
    "print(is_english('Docs To Go™ Free Office Suite'))\n",
    "print(is_english('爱奇艺PPS -《欢乐颂2》电视剧热播'))"
   ]
  },
  {
   "cell_type": "markdown",
   "metadata": {},
   "source": [
    "I made the limit 3 characters, so now if there is an app with more than 3 odd characters in it, it will return False. "
   ]
  },
  {
   "cell_type": "code",
   "execution_count": 14,
   "metadata": {},
   "outputs": [],
   "source": [
    "android_english = []\n",
    "apple_english = []\n",
    "\n",
    "for app in android_clean:\n",
    "    name = app[0]\n",
    "    if is_english(name):\n",
    "        android_english.append(app)\n",
    "\n",
    "for app in apple:\n",
    "    name = app[1]\n",
    "    if is_english(name):\n",
    "        apple_english.append(app)"
   ]
  },
  {
   "cell_type": "code",
   "execution_count": 15,
   "metadata": {
    "collapsed": true
   },
   "outputs": [
    {
     "name": "stdout",
     "output_type": "stream",
     "text": [
      "['Photo Editor & Candy Camera & Grid & ScrapBook', 'ART_AND_DESIGN', '4.1', '159', '19M', '10,000+', 'Free', '0', 'Everyone', 'Art & Design', 'January 7, 2018', '1.0.0', '4.0.3 and up']\n",
      "\n",
      "\n",
      "['U Launcher Lite – FREE Live Cool Themes, Hide Apps', 'ART_AND_DESIGN', '4.7', '87510', '8.7M', '5,000,000+', 'Free', '0', 'Everyone', 'Art & Design', 'August 1, 2018', '1.2.4', '4.0.3 and up']\n",
      "\n",
      "\n",
      "['Sketch - Draw & Paint', 'ART_AND_DESIGN', '4.5', '215644', '25M', '50,000,000+', 'Free', '0', 'Teen', 'Art & Design', 'June 8, 2018', 'Varies with device', '4.2 and up']\n",
      "\n",
      "\n",
      "Number of rows: 9615\n",
      "Number of columns: 13\n"
     ]
    }
   ],
   "source": [
    "explore_data(android_english, 0, 3, True)"
   ]
  },
  {
   "cell_type": "code",
   "execution_count": 16,
   "metadata": {
    "collapsed": true
   },
   "outputs": [
    {
     "name": "stdout",
     "output_type": "stream",
     "text": [
      "['284882215', 'Facebook', '389879808', 'USD', '0', '2974676', '212', '3.5', '3.5', '95', '4+', 'Social Networking', '37', '1', '29', '1']\n",
      "\n",
      "\n",
      "['389801252', 'Instagram', '113954816', 'USD', '0', '2161558', '1289', '4.5', '4', '10.23', '12+', 'Photo & Video', '37', '0', '29', '1']\n",
      "\n",
      "\n",
      "['529479190', 'Clash of Clans', '116476928', 'USD', '0', '2130805', '579', '4.5', '4.5', '9.24.12', '9+', 'Games', '38', '5', '18', '1']\n",
      "\n",
      "\n",
      "Number of rows: 6183\n",
      "Number of columns: 16\n"
     ]
    }
   ],
   "source": [
    "explore_data(apple_english, 0, 3, True)"
   ]
  },
  {
   "cell_type": "markdown",
   "metadata": {},
   "source": [
    "Above creates the new list with removed non-english apps.\n",
    "\n",
    "# Removing Non-Free Apps\n",
    "\n",
    "Since we are focusing on only looking at free apps, Below I will work on removing all the non free apps from the app lists. I will loop through the apps in each list, for the android list I will check if the app says free in column 7. For the apple list, I will check if the price in column 4 is 0. "
   ]
  },
  {
   "cell_type": "code",
   "execution_count": 17,
   "metadata": {},
   "outputs": [],
   "source": [
    "android_free = []\n",
    "apple_free = []\n",
    "\n",
    "for row in android_english:\n",
    "    price = row[6]\n",
    "    if price == 'Free':\n",
    "        android_free.append(row)\n",
    "        \n",
    "for row in apple_english:\n",
    "    price = float(row[4])\n",
    "    if price == 0:\n",
    "        apple_free.append(row)"
   ]
  },
  {
   "cell_type": "code",
   "execution_count": 18,
   "metadata": {
    "collapsed": true
   },
   "outputs": [
    {
     "name": "stdout",
     "output_type": "stream",
     "text": [
      "['284882215', 'Facebook', '389879808', 'USD', '0', '2974676', '212', '3.5', '3.5', '95', '4+', 'Social Networking', '37', '1', '29', '1']\n",
      "\n",
      "\n",
      "['389801252', 'Instagram', '113954816', 'USD', '0', '2161558', '1289', '4.5', '4', '10.23', '12+', 'Photo & Video', '37', '0', '29', '1']\n",
      "\n",
      "\n",
      "['529479190', 'Clash of Clans', '116476928', 'USD', '0', '2130805', '579', '4.5', '4.5', '9.24.12', '9+', 'Games', '38', '5', '18', '1']\n",
      "\n",
      "\n",
      "['420009108', 'Temple Run', '65921024', 'USD', '0', '1724546', '3842', '4.5', '4', '1.6.2', '9+', 'Games', '40', '5', '1', '1']\n",
      "\n",
      "\n",
      "['284035177', 'Pandora - Music & Radio', '130242560', 'USD', '0', '1126879', '3594', '4', '4.5', '8.4.1', '12+', 'Music', '37', '4', '1', '1']\n",
      "\n",
      "\n",
      "Number of rows: 3222\n",
      "Number of columns: 16\n"
     ]
    }
   ],
   "source": [
    "explore_data(apple_free, 0, 5, True)"
   ]
  },
  {
   "cell_type": "code",
   "execution_count": 19,
   "metadata": {
    "collapsed": true
   },
   "outputs": [
    {
     "name": "stdout",
     "output_type": "stream",
     "text": [
      "['Photo Editor & Candy Camera & Grid & ScrapBook', 'ART_AND_DESIGN', '4.1', '159', '19M', '10,000+', 'Free', '0', 'Everyone', 'Art & Design', 'January 7, 2018', '1.0.0', '4.0.3 and up']\n",
      "\n",
      "\n",
      "['U Launcher Lite – FREE Live Cool Themes, Hide Apps', 'ART_AND_DESIGN', '4.7', '87510', '8.7M', '5,000,000+', 'Free', '0', 'Everyone', 'Art & Design', 'August 1, 2018', '1.2.4', '4.0.3 and up']\n",
      "\n",
      "\n",
      "['Sketch - Draw & Paint', 'ART_AND_DESIGN', '4.5', '215644', '25M', '50,000,000+', 'Free', '0', 'Teen', 'Art & Design', 'June 8, 2018', 'Varies with device', '4.2 and up']\n",
      "\n",
      "\n",
      "['Pixel Draw - Number Art Coloring Book', 'ART_AND_DESIGN', '4.3', '967', '2.8M', '100,000+', 'Free', '0', 'Everyone', 'Art & Design', 'June 20, 2018', '1.1', '4.4 and up']\n",
      "\n",
      "\n",
      "['Paper flowers instructions', 'ART_AND_DESIGN', '4.4', '167', '5.6M', '50,000+', 'Free', '0', 'Everyone', 'Art & Design', 'March 26, 2017', '1', '2.3 and up']\n",
      "\n",
      "\n",
      "Number of rows: 8864\n",
      "Number of columns: 13\n"
     ]
    }
   ],
   "source": [
    "explore_data(android_free, 0, 5, True)"
   ]
  },
  {
   "cell_type": "markdown",
   "metadata": {},
   "source": [
    "# Which app to make\n",
    "\n",
    "To figure out which app to make, we will find which genres are the most common by creating a frequency table. We want to find an app that will work with both markets. \n",
    "\n",
    "I will create a frequency that shows the percentage of genres in each list. \n",
    "\n",
    "The frequency table for android will be based on the Genres and Categories columns, and for apple it will be prime_genre. \n",
    "\n",
    "To make it easier to view, I will sort the tables into descending order."
   ]
  },
  {
   "cell_type": "code",
   "execution_count": 20,
   "metadata": {},
   "outputs": [],
   "source": [
    "def freq_table(dataset, index):\n",
    "    table = {}\n",
    "    total = 0\n",
    "    \n",
    "    for row in dataset:\n",
    "        total += 1\n",
    "        value = row[index]\n",
    "        if value in table:\n",
    "            table[value] += 1\n",
    "        else:\n",
    "            table[value] = 1\n",
    "\n",
    "    for key in table:\n",
    "        percent = (table[key] / total) * 100\n",
    "        table[key] = percent\n",
    "    return table"
   ]
  },
  {
   "cell_type": "code",
   "execution_count": 21,
   "metadata": {},
   "outputs": [],
   "source": [
    "def display_table(dataset, index):\n",
    "    table = freq_table(dataset, index)\n",
    "    table_display = []\n",
    "    for key in table:\n",
    "        key_val_as_tuple = (table[key], key)\n",
    "        table_display.append(key_val_as_tuple)\n",
    "\n",
    "    table_sorted = sorted(table_display, reverse = True)\n",
    "    for entry in table_sorted:\n",
    "        print(entry[1], ':', entry[0])"
   ]
  },
  {
   "cell_type": "code",
   "execution_count": 22,
   "metadata": {
    "collapsed": true
   },
   "outputs": [
    {
     "name": "stdout",
     "output_type": "stream",
     "text": [
      "FAMILY : 18.896660649819495\n",
      "GAME : 9.724729241877256\n",
      "TOOLS : 8.461191335740072\n",
      "BUSINESS : 4.591606498194946\n",
      "LIFESTYLE : 3.91471119133574\n",
      "PRODUCTIVITY : 3.892148014440433\n",
      "FINANCE : 3.7003610108303246\n",
      "MEDICAL : 3.531137184115524\n",
      "SPORTS : 3.395758122743682\n",
      "PERSONALIZATION : 3.3167870036101084\n",
      "COMMUNICATION : 3.2378158844765346\n",
      "HEALTH_AND_FITNESS : 3.0798736462093865\n",
      "PHOTOGRAPHY : 2.944494584837545\n",
      "NEWS_AND_MAGAZINES : 2.7978339350180503\n",
      "SOCIAL : 2.6624548736462095\n",
      "TRAVEL_AND_LOCAL : 2.33528880866426\n",
      "SHOPPING : 2.2450361010830324\n",
      "BOOKS_AND_REFERENCE : 2.1435018050541514\n",
      "DATING : 1.861462093862816\n",
      "VIDEO_PLAYERS : 1.7937725631768955\n",
      "MAPS_AND_NAVIGATION : 1.3989169675090252\n",
      "FOOD_AND_DRINK : 1.2409747292418771\n",
      "EDUCATION : 1.1620036101083033\n",
      "ENTERTAINMENT : 0.9589350180505415\n",
      "LIBRARIES_AND_DEMO : 0.9363718411552346\n",
      "AUTO_AND_VEHICLES : 0.9250902527075812\n",
      "HOUSE_AND_HOME : 0.8235559566787004\n",
      "WEATHER : 0.8009927797833934\n",
      "EVENTS : 0.7107400722021661\n",
      "PARENTING : 0.6543321299638989\n",
      "ART_AND_DESIGN : 0.6430505415162455\n",
      "COMICS : 0.6204873646209386\n",
      "BEAUTY : 0.5979241877256317\n",
      "\n",
      "\n",
      "Tools : 8.461191335740072\n",
      "Entertainment : 6.419223826714801\n",
      "Education : 5.88898916967509\n",
      "Business : 4.591606498194946\n",
      "Lifestyle : 3.91471119133574\n",
      "Productivity : 3.892148014440433\n",
      "Finance : 3.7003610108303246\n",
      "Medical : 3.531137184115524\n",
      "Sports : 3.48601083032491\n",
      "Personalization : 3.3167870036101084\n",
      "Communication : 3.2490974729241873\n",
      "Action : 3.203971119133574\n",
      "Health & Fitness : 3.1024368231046933\n",
      "Photography : 2.944494584837545\n",
      "News & Magazines : 2.7978339350180503\n",
      "Social : 2.6624548736462095\n",
      "Casual : 2.36913357400722\n",
      "Travel & Local : 2.33528880866426\n",
      "Shopping : 2.2450361010830324\n",
      "Simulation : 2.154783393501805\n",
      "Books & Reference : 2.154783393501805\n",
      "Arcade : 1.9855595667870036\n",
      "Dating : 1.861462093862816\n",
      "Video Players & Editors : 1.8050541516245486\n",
      "Maps & Navigation : 1.3989169675090252\n",
      "Puzzle : 1.3650722021660648\n",
      "Food & Drink : 1.2409747292418771\n",
      "Racing : 1.1732851985559567\n",
      "Role Playing : 1.026624548736462\n",
      "Educational : 0.9927797833935018\n",
      "Strategy : 0.9363718411552346\n",
      "Libraries & Demo : 0.9363718411552346\n",
      "Auto & Vehicles : 0.9250902527075812\n",
      "House & Home : 0.8235559566787004\n",
      "Weather : 0.8009927797833934\n",
      "Adventure : 0.7220216606498195\n",
      "Events : 0.7107400722021661\n",
      "Art & Design : 0.6881768953068592\n",
      "Parenting : 0.6543321299638989\n",
      "Comics : 0.6204873646209386\n",
      "Beauty : 0.5979241877256317\n",
      "Board : 0.48510830324909754\n",
      "Card : 0.4625451263537906\n",
      "Trivia : 0.42870036101083037\n",
      "Casino : 0.42870036101083037\n",
      "Word : 0.2594765342960289\n",
      "Music : 0.22563176895306858\n",
      "Music & Audio : 0.01128158844765343\n",
      " : 0.01128158844765343\n"
     ]
    }
   ],
   "source": [
    "display_table(android_free, 1) # category\n",
    "print('\\n')\n",
    "display_table(android_free, 9) # genre"
   ]
  },
  {
   "cell_type": "code",
   "execution_count": 23,
   "metadata": {
    "collapsed": true
   },
   "outputs": [
    {
     "name": "stdout",
     "output_type": "stream",
     "text": [
      "Games : 58.16263190564867\n",
      "Entertainment : 7.883302296710118\n",
      "Photo & Video : 4.9658597144630665\n",
      "Education : 3.662321539416512\n",
      "Social Networking : 3.2898820608317814\n",
      "Shopping : 2.60707635009311\n",
      "Utilities : 2.5139664804469275\n",
      "Sports : 2.1415270018621975\n",
      "Music : 2.0484171322160147\n",
      "Health & Fitness : 2.0173805090006205\n",
      "Productivity : 1.7380509000620732\n",
      "Lifestyle : 1.5828677839851024\n",
      "News : 1.3345747982619491\n",
      "Travel : 1.2414649286157666\n",
      "Finance : 1.1173184357541899\n",
      "Weather : 0.8690254500310366\n",
      "Food & Drink : 0.8069522036002483\n",
      "Reference : 0.5586592178770949\n",
      "Business : 0.5276225946617008\n",
      "Book : 0.4345127250155183\n",
      "Navigation : 0.186219739292365\n",
      "Medical : 0.186219739292365\n",
      "Catalogs : 0.12414649286157665\n"
     ]
    }
   ],
   "source": [
    "display_table(apple_free, 11) # prime_genre"
   ]
  },
  {
   "cell_type": "markdown",
   "metadata": {},
   "source": [
    "# Analyzing the tables\n",
    "\n",
    "### Apple Store\n",
    "\n",
    "For the apple store list, apple_free, the most common genre is Games, at 58.2%, and the second highest is entertainment at 7.9%. \n",
    "\n",
    "It looks like most of the apps on the app store are made for entertainment. It seems like the best option for an app store app would be a game based on this table.\n",
    "\n",
    "### Google Play Store\n",
    "\n",
    "In the Google Play store, there are 2 different columns describing the type of app it is, category and genre. This makes it a little harder to determine which app to use since there is no clear differentiation between the two. \n",
    "\n",
    "The most common apps for the category column are Family at 18.9%, Game at 9.7%, Tools at 8.5%. The most common genres are Tools at 8.5%, Entertainment at 6.4%, and Education at 5.9%. \n",
    "\n",
    "I noticed that it looks like instead of a broad \"games\" category for genres, it seems like they are broken down into the types of games. Also, the family apps look like they are still games, just that they are aimed at kids. \n",
    "\n",
    "It seems like the best app to make for android would be a game or tool. \n",
    "\n",
    "### Summary\n",
    "\n",
    "While these tables provide quite a bit of useful data to determine which app would be good to create, there is still some information that we are missing, like how many users use these apps. "
   ]
  },
  {
   "cell_type": "markdown",
   "metadata": {},
   "source": [
    "# Finding Total Users\n",
    "\n",
    "For the apple store, I will look at the rating_count_tot column, and for the play store I will use Installs, to determine how many users there are for each app, and then determine how many users there are for apps in each genre. \n",
    "\n"
   ]
  },
  {
   "cell_type": "code",
   "execution_count": 24,
   "metadata": {
    "collapsed": true
   },
   "outputs": [
    {
     "name": "stdout",
     "output_type": "stream",
     "text": [
      "Social Networking : 71548.34905660378\n",
      "Photo & Video : 28441.54375\n",
      "Games : 22788.6696905016\n",
      "Music : 57326.530303030304\n",
      "Reference : 74942.11111111111\n",
      "Health & Fitness : 23298.015384615384\n",
      "Weather : 52279.892857142855\n",
      "Utilities : 18684.456790123455\n",
      "Travel : 28243.8\n",
      "Shopping : 26919.690476190477\n",
      "News : 21248.023255813954\n",
      "Navigation : 86090.33333333333\n",
      "Lifestyle : 16485.764705882353\n",
      "Entertainment : 14029.830708661417\n",
      "Food & Drink : 33333.92307692308\n",
      "Sports : 23008.898550724636\n",
      "Book : 39758.5\n",
      "Finance : 31467.944444444445\n",
      "Education : 7003.983050847458\n",
      "Productivity : 21028.410714285714\n",
      "Business : 7491.117647058823\n",
      "Catalogs : 4004.0\n",
      "Medical : 612.0\n"
     ]
    }
   ],
   "source": [
    "apple_genres = freq_table(apple_free, 11)\n",
    "\n",
    "for genre in apple_genres:\n",
    "    total = 0 # sum of ratings in each genre\n",
    "    len_genre = 0 # number of apps in each genre\n",
    "    for app in apple_free:\n",
    "        genre_app = app[11]\n",
    "        if genre_app == genre:\n",
    "            user_ratings = float(app[5])\n",
    "            total += user_ratings\n",
    "            len_genre += 1\n",
    "\n",
    "    avg_user_ratings = total / len_genre\n",
    "    print(genre, ':', avg_user_ratings)"
   ]
  },
  {
   "cell_type": "code",
   "execution_count": 25,
   "metadata": {},
   "outputs": [],
   "source": [
    "def app_summary(dataset, genre):\n",
    "    app_count = 0\n",
    "\n",
    "    for app in dataset:\n",
    "        col = app[11]\n",
    "        if app_count == 11:\n",
    "            break\n",
    "        elif col == genre:\n",
    "            app_count += 1\n",
    "            print(app[1], ';', app[11], ';', app[5])            "
   ]
  },
  {
   "cell_type": "code",
   "execution_count": 26,
   "metadata": {
    "collapsed": true
   },
   "outputs": [
    {
     "name": "stdout",
     "output_type": "stream",
     "text": [
      "Waze - GPS Navigation, Maps & Real-time Traffic ; Navigation ; 345046\n",
      "Google Maps - Navigation & Transit ; Navigation ; 154911\n",
      "Geocaching® ; Navigation ; 12811\n",
      "CoPilot GPS – Car Navigation & Offline Maps ; Navigation ; 3582\n",
      "ImmobilienScout24: Real Estate Search in Germany ; Navigation ; 187\n",
      "Railway Route Search ; Navigation ; 5\n"
     ]
    }
   ],
   "source": [
    "app_summary(apple_free, 'Navigation')"
   ]
  },
  {
   "cell_type": "code",
   "execution_count": 27,
   "metadata": {
    "collapsed": true
   },
   "outputs": [
    {
     "name": "stdout",
     "output_type": "stream",
     "text": [
      "Facebook ; Social Networking ; 2974676\n",
      "Pinterest ; Social Networking ; 1061624\n",
      "Skype for iPhone ; Social Networking ; 373519\n",
      "Messenger ; Social Networking ; 351466\n",
      "Tumblr ; Social Networking ; 334293\n",
      "WhatsApp Messenger ; Social Networking ; 287589\n",
      "Kik ; Social Networking ; 260965\n",
      "ooVoo – Free Video Call, Text and Voice ; Social Networking ; 177501\n",
      "TextNow - Unlimited Text + Calls ; Social Networking ; 164963\n",
      "Viber Messenger – Text & Call ; Social Networking ; 164249\n",
      "Followers - Social Analytics For Instagram ; Social Networking ; 112778\n"
     ]
    }
   ],
   "source": [
    "app_summary(apple_free, 'Social Networking')"
   ]
  },
  {
   "cell_type": "code",
   "execution_count": 28,
   "metadata": {
    "collapsed": true
   },
   "outputs": [
    {
     "name": "stdout",
     "output_type": "stream",
     "text": [
      "Pandora - Music & Radio ; Music ; 1126879\n",
      "Spotify Music ; Music ; 878563\n",
      "Shazam - Discover music, artists, videos & lyrics ; Music ; 402925\n",
      "iHeartRadio – Free Music & Radio Stations ; Music ; 293228\n",
      "SoundCloud - Music & Audio ; Music ; 135744\n",
      "Magic Piano by Smule ; Music ; 131695\n",
      "Smule Sing! ; Music ; 119316\n",
      "TuneIn Radio - MLB NBA Audiobooks Podcasts Music ; Music ; 110420\n",
      "Amazon Music ; Music ; 106235\n",
      "SoundHound Song Search & Music Player ; Music ; 82602\n",
      "Sonos Controller ; Music ; 48905\n"
     ]
    }
   ],
   "source": [
    "app_summary(apple_free, 'Music')"
   ]
  },
  {
   "cell_type": "code",
   "execution_count": 29,
   "metadata": {
    "collapsed": true
   },
   "outputs": [
    {
     "name": "stdout",
     "output_type": "stream",
     "text": [
      "The Weather Channel: Forecast, Radar & Alerts ; Weather ; 495626\n",
      "The Weather Channel App for iPad – best local forecast, radar map, and storm tracking ; Weather ; 208648\n",
      "WeatherBug - Local Weather, Radar, Maps, Alerts ; Weather ; 188583\n",
      "MyRadar NOAA Weather Radar Forecast ; Weather ; 150158\n",
      "AccuWeather - Weather for Life ; Weather ; 144214\n",
      "Yahoo Weather ; Weather ; 112603\n",
      "Weather Underground: Custom Forecast & Local Radar ; Weather ; 49192\n",
      "NOAA Weather Radar - Weather Forecast & HD Radar ; Weather ; 45696\n",
      "Weather Live Free - Weather Forecast & Alerts ; Weather ; 35702\n",
      "Storm Radar ; Weather ; 22792\n",
      "QuakeFeed Earthquake Map, Alerts, and News ; Weather ; 6081\n"
     ]
    }
   ],
   "source": [
    "app_summary(apple_free, 'Weather')"
   ]
  },
  {
   "cell_type": "code",
   "execution_count": 30,
   "metadata": {
    "collapsed": true
   },
   "outputs": [
    {
     "name": "stdout",
     "output_type": "stream",
     "text": [
      "Kindle – Read eBooks, Magazines & Textbooks ; Book ; 252076\n",
      "Audible – audio books, original series & podcasts ; Book ; 105274\n",
      "Color Therapy Adult Coloring Book for Adults ; Book ; 84062\n",
      "OverDrive – Library eBooks and Audiobooks ; Book ; 65450\n",
      "HOOKED - Chat Stories ; Book ; 47829\n",
      "BookShout: Read eBooks & Track Your Reading Goals ; Book ; 879\n",
      "Dr. Seuss Treasury — 50 best kids books ; Book ; 451\n",
      "Green Riding Hood ; Book ; 392\n",
      "Weirdwood Manor ; Book ; 197\n",
      "MangaZERO - comic reader ; Book ; 9\n",
      "ikouhoushi ; Book ; 0\n"
     ]
    }
   ],
   "source": [
    "app_summary(apple_free, 'Book')"
   ]
  },
  {
   "cell_type": "code",
   "execution_count": 31,
   "metadata": {
    "collapsed": true
   },
   "outputs": [
    {
     "name": "stdout",
     "output_type": "stream",
     "text": [
      "Bible ; Reference ; 985920\n",
      "Dictionary.com Dictionary & Thesaurus ; Reference ; 200047\n",
      "Dictionary.com Dictionary & Thesaurus for iPad ; Reference ; 54175\n",
      "Google Translate ; Reference ; 26786\n",
      "Muslim Pro: Ramadan 2017 Prayer Times, Azan, Quran ; Reference ; 18418\n",
      "New Furniture Mods - Pocket Wiki & Game Tools for Minecraft PC Edition ; Reference ; 17588\n",
      "Merriam-Webster Dictionary ; Reference ; 16849\n",
      "Night Sky ; Reference ; 12122\n",
      "City Maps for Minecraft PE - The Best Maps for Minecraft Pocket Edition (MCPE) ; Reference ; 8535\n",
      "LUCKY BLOCK MOD ™ for Minecraft PC Edition - The Best Pocket Wiki & Mods Installer Tools ; Reference ; 4693\n",
      "GUNS MODS for Minecraft PC Edition - Mods Tools ; Reference ; 1497\n"
     ]
    }
   ],
   "source": [
    "app_summary(apple_free, 'Reference')"
   ]
  },
  {
   "cell_type": "code",
   "execution_count": 32,
   "metadata": {
    "collapsed": true
   },
   "outputs": [
    {
     "name": "stdout",
     "output_type": "stream",
     "text": [
      "Chase Mobile℠ ; Finance ; 233270\n",
      "Mint: Personal Finance, Budget, Bills & Money ; Finance ; 232940\n",
      "Bank of America - Mobile Banking ; Finance ; 119773\n",
      "PayPal - Send and request money safely ; Finance ; 119487\n",
      "Credit Karma: Free Credit Scores, Reports & Alerts ; Finance ; 101679\n",
      "Capital One Mobile ; Finance ; 56110\n",
      "Citi Mobile® ; Finance ; 48822\n",
      "Wells Fargo Mobile ; Finance ; 43064\n",
      "Chase Mobile ; Finance ; 34322\n",
      "Square Cash - Send Money for Free ; Finance ; 23775\n",
      "Capital One for iPad ; Finance ; 21858\n"
     ]
    }
   ],
   "source": [
    "app_summary(apple_free, 'Finance')"
   ]
  },
  {
   "cell_type": "code",
   "execution_count": 33,
   "metadata": {
    "collapsed": true
   },
   "outputs": [
    {
     "name": "stdout",
     "output_type": "stream",
     "text": [
      "Clash of Clans ; Games ; 2130805\n",
      "Temple Run ; Games ; 1724546\n",
      "Candy Crush Saga ; Games ; 961794\n",
      "Angry Birds ; Games ; 824451\n",
      "Subway Surfers ; Games ; 706110\n",
      "Solitaire ; Games ; 679055\n",
      "CSR Racing ; Games ; 677247\n",
      "Crossy Road - Endless Arcade Hopper ; Games ; 669079\n",
      "Injustice: Gods Among Us ; Games ; 612532\n",
      "Hay Day ; Games ; 567344\n",
      "PAC-MAN ; Games ; 508808\n"
     ]
    }
   ],
   "source": [
    "app_summary(apple_free, 'Games')"
   ]
  },
  {
   "cell_type": "markdown",
   "metadata": {},
   "source": [
    "## App Recommendation for App Store\n",
    "\n",
    "There are a couple apps that have a good amount of users, mainly social networking, music, weather, navigation, and books. \n",
    "\n",
    "Navigation is almost purely Google Maps, and Waze so I do not think that would be a good choice.\n",
    "\n",
    "Reference is largely skewed by the bible, and dictionary.com, but there is still potential, possibly with a daily quote app.\n",
    "\n",
    "Book, Navigation, Weather, Music and Social Networking are all in a similar situation with being dominated by a small number of apps. \n",
    "\n",
    "Finance is another possibility, it has a couple that largely raise the users, but the rest are still large, and pretty evenly distributed. Possible issue is that it seems hard to incorporate ads. \n",
    "\n",
    "Games has a low average total ratings, but that is due to the sheer amount of apps in the Games genre, and it is very easy to incorporate ads into these apps. \n",
    "\n",
    "I would recommend either a Game or Refference app."
   ]
  },
  {
   "cell_type": "code",
   "execution_count": 34,
   "metadata": {
    "collapsed": true
   },
   "outputs": [
    {
     "name": "stdout",
     "output_type": "stream",
     "text": [
      "1,000,000+ : 15.726534296028879\n",
      "100,000+ : 11.552346570397113\n",
      "10,000,000+ : 10.548285198555957\n",
      "10,000+ : 10.198555956678701\n",
      "1,000+ : 8.404783393501805\n",
      "100+ : 6.915613718411552\n",
      "5,000,000+ : 6.825361010830325\n",
      "500,000+ : 5.561823104693141\n",
      "50,000+ : 4.7721119133574\n",
      "5,000+ : 4.512635379061372\n",
      "10+ : 3.5424187725631766\n",
      "500+ : 3.2490974729241873\n",
      "50,000,000+ : 2.3014440433213\n",
      "100,000,000+ : 2.1322202166064983\n",
      "50+ : 1.917870036101083\n",
      "5+ : 0.78971119133574\n",
      "1+ : 0.5076714801444043\n",
      "500,000,000+ : 0.2707581227436823\n",
      "1,000,000,000+ : 0.22563176895306858\n",
      "0+ : 0.04512635379061372\n"
     ]
    }
   ],
   "source": [
    "display_table(android_free, 5)"
   ]
  },
  {
   "cell_type": "markdown",
   "metadata": {},
   "source": [
    "In order to do computations with this data, we will need to remove the + sign and convert them to floats. "
   ]
  },
  {
   "cell_type": "code",
   "execution_count": 35,
   "metadata": {
    "collapsed": true
   },
   "outputs": [
    {
     "data": {
      "text/plain": [
       "{'ART_AND_DESIGN': 0.6430505415162455,\n",
       " 'AUTO_AND_VEHICLES': 0.9250902527075812,\n",
       " 'BEAUTY': 0.5979241877256317,\n",
       " 'BOOKS_AND_REFERENCE': 2.1435018050541514,\n",
       " 'BUSINESS': 4.591606498194946,\n",
       " 'COMICS': 0.6204873646209386,\n",
       " 'COMMUNICATION': 3.2378158844765346,\n",
       " 'DATING': 1.861462093862816,\n",
       " 'EDUCATION': 1.1620036101083033,\n",
       " 'ENTERTAINMENT': 0.9589350180505415,\n",
       " 'EVENTS': 0.7107400722021661,\n",
       " 'FINANCE': 3.7003610108303246,\n",
       " 'FOOD_AND_DRINK': 1.2409747292418771,\n",
       " 'HEALTH_AND_FITNESS': 3.0798736462093865,\n",
       " 'HOUSE_AND_HOME': 0.8235559566787004,\n",
       " 'LIBRARIES_AND_DEMO': 0.9363718411552346,\n",
       " 'LIFESTYLE': 3.91471119133574,\n",
       " 'GAME': 9.724729241877256,\n",
       " 'FAMILY': 18.896660649819495,\n",
       " 'MEDICAL': 3.531137184115524,\n",
       " 'SOCIAL': 2.6624548736462095,\n",
       " 'SHOPPING': 2.2450361010830324,\n",
       " 'PHOTOGRAPHY': 2.944494584837545,\n",
       " 'SPORTS': 3.395758122743682,\n",
       " 'TRAVEL_AND_LOCAL': 2.33528880866426,\n",
       " 'TOOLS': 8.461191335740072,\n",
       " 'PERSONALIZATION': 3.3167870036101084,\n",
       " 'PRODUCTIVITY': 3.892148014440433,\n",
       " 'PARENTING': 0.6543321299638989,\n",
       " 'WEATHER': 0.8009927797833934,\n",
       " 'VIDEO_PLAYERS': 1.7937725631768955,\n",
       " 'NEWS_AND_MAGAZINES': 2.7978339350180503,\n",
       " 'MAPS_AND_NAVIGATION': 1.3989169675090252}"
      ]
     },
     "execution_count": 35,
     "metadata": {},
     "output_type": "execute_result"
    }
   ],
   "source": [
    "freq_table(android_free, 1)"
   ]
  },
  {
   "cell_type": "code",
   "execution_count": 45,
   "metadata": {
    "collapsed": true
   },
   "outputs": [
    {
     "name": "stdout",
     "output_type": "stream",
     "text": [
      "ART_AND_DESIGN : 1986335.0877192982\n",
      "AUTO_AND_VEHICLES : 647317.8170731707\n",
      "BEAUTY : 513151.88679245283\n",
      "BOOKS_AND_REFERENCE : 8767811.894736841\n",
      "BUSINESS : 1712290.1474201474\n",
      "COMICS : 817657.2727272727\n",
      "COMMUNICATION : 38456119.167247385\n",
      "DATING : 854028.8303030303\n",
      "EDUCATION : 1833495.145631068\n",
      "ENTERTAINMENT : 11640705.88235294\n",
      "EVENTS : 253542.22222222222\n",
      "FINANCE : 1387692.475609756\n",
      "FOOD_AND_DRINK : 1924897.7363636363\n",
      "HEALTH_AND_FITNESS : 4188821.9853479853\n",
      "HOUSE_AND_HOME : 1331540.5616438356\n",
      "LIBRARIES_AND_DEMO : 638503.734939759\n",
      "LIFESTYLE : 1433675.5878962537\n",
      "GAME : 15588015.603248259\n",
      "FAMILY : 3697848.1731343283\n",
      "MEDICAL : 120550.61980830671\n",
      "SOCIAL : 23253652.127118643\n",
      "SHOPPING : 7036877.311557789\n",
      "PHOTOGRAPHY : 17840110.40229885\n",
      "SPORTS : 3638640.1428571427\n",
      "TRAVEL_AND_LOCAL : 13984077.710144928\n",
      "TOOLS : 10801391.298666667\n",
      "PERSONALIZATION : 5201482.6122448975\n",
      "PRODUCTIVITY : 16787331.344927534\n",
      "PARENTING : 542603.6206896552\n",
      "WEATHER : 5074486.197183099\n",
      "VIDEO_PLAYERS : 24727872.452830188\n",
      "NEWS_AND_MAGAZINES : 9549178.467741935\n",
      "MAPS_AND_NAVIGATION : 4056941.7741935486\n"
     ]
    }
   ],
   "source": [
    "android_genres = freq_table(android_free, 1)\n",
    "\n",
    "for category in android_genres:\n",
    "    total = 0\n",
    "    len_category = 0\n",
    "    for app in android_free:\n",
    "        category_app = app[1]\n",
    "        if category_app == category:\n",
    "            installs = app[5].replace('+', '')\n",
    "            installs = installs.replace(',', '')\n",
    "            total += float(installs)\n",
    "            len_category += 1\n",
    "      \n",
    "    avg_installs = total / len_category\n",
    "    print(category, ':', avg_installs)"
   ]
  },
  {
   "cell_type": "markdown",
   "metadata": {},
   "source": [
    "# App Recomendation for Play Store\n",
    "\n",
    "The top categories in the Play Store are Books and Reference, Communication, Entertainment, Health and Fitness, Game, Social, Shopping, Photography, Travel and Local, Tools, Personalization, Productivity, Weather, Video Players, New and Magazines.\n",
    "\n",
    "Since Books and Reference, and games apps are very popular on both platforms, and seem relatively easy to incorporate ads into, I would recommend one of these two genres for the app to make. "
   ]
  },
  {
   "cell_type": "code",
   "execution_count": 46,
   "metadata": {},
   "outputs": [],
   "source": [
    "def app_summary_android(dataset, genre):\n",
    "    app_count = 0\n",
    "\n",
    "    for app in dataset:\n",
    "        col = app[1]\n",
    "        if app_count == 11:\n",
    "            break\n",
    "        elif col == genre:\n",
    "            app_count += 1\n",
    "            print(app[0], ';', app[1], ';', app[5]) "
   ]
  },
  {
   "cell_type": "code",
   "execution_count": 48,
   "metadata": {
    "collapsed": true
   },
   "outputs": [
    {
     "name": "stdout",
     "output_type": "stream",
     "text": [
      "Solitaire ; GAME ; 10,000,000+\n",
      "Sonic Dash ; GAME ; 100,000,000+\n",
      "PAC-MAN ; GAME ; 100,000,000+\n",
      "Bubble Witch 3 Saga ; GAME ; 50,000,000+\n",
      "Race the Traffic Moto ; GAME ; 10,000,000+\n",
      "Marble - Temple Quest ; GAME ; 10,000,000+\n",
      "Shooting King ; GAME ; 10,000,000+\n",
      "Geometry Dash World ; GAME ; 10,000,000+\n",
      "Jungle Marble Blast ; GAME ; 5,000,000+\n",
      "Roll the Ball® - slide puzzle ; GAME ; 100,000,000+\n",
      "Block Craft 3D: Building Simulator Games For Free ; GAME ; 50,000,000+\n"
     ]
    }
   ],
   "source": [
    "app_summary_android(android_free, 'GAME')"
   ]
  },
  {
   "cell_type": "code",
   "execution_count": 49,
   "metadata": {
    "collapsed": true
   },
   "outputs": [
    {
     "name": "stdout",
     "output_type": "stream",
     "text": [
      "E-Book Read - Read Book for free ; BOOKS_AND_REFERENCE ; 50,000+\n",
      "Download free book with green book ; BOOKS_AND_REFERENCE ; 100,000+\n",
      "Wikipedia ; BOOKS_AND_REFERENCE ; 10,000,000+\n",
      "Cool Reader ; BOOKS_AND_REFERENCE ; 10,000,000+\n",
      "Free Panda Radio Music ; BOOKS_AND_REFERENCE ; 100,000+\n",
      "Book store ; BOOKS_AND_REFERENCE ; 1,000,000+\n",
      "FBReader: Favorite Book Reader ; BOOKS_AND_REFERENCE ; 10,000,000+\n",
      "English Grammar Complete Handbook ; BOOKS_AND_REFERENCE ; 500,000+\n",
      "Free Books - Spirit Fanfiction and Stories ; BOOKS_AND_REFERENCE ; 1,000,000+\n",
      "Google Play Books ; BOOKS_AND_REFERENCE ; 1,000,000,000+\n",
      "AlReader -any text book reader ; BOOKS_AND_REFERENCE ; 5,000,000+\n"
     ]
    }
   ],
   "source": [
    "app_summary_android(android_free, 'BOOKS_AND_REFERENCE')"
   ]
  },
  {
   "cell_type": "markdown",
   "metadata": {},
   "source": [
    "# Summary\n",
    "\n",
    "For these two app stores, I would reccomend making either a game, or a book/reference app. These appear to be the best free apps to make that you would be able to make money off of ad revenue, and have available for free for users. These two genres are very popular in both stores, and have users pretty spread out among the apps. These types of apps also seem very easy to incorporate ads into without seeming intrusive to the consumer. "
   ]
  },
  {
   "cell_type": "code",
   "execution_count": null,
   "metadata": {},
   "outputs": [],
   "source": []
  }
 ],
 "metadata": {
  "kernelspec": {
   "display_name": "Python 3",
   "language": "python",
   "name": "python3"
  },
  "language_info": {
   "codemirror_mode": {
    "name": "ipython",
    "version": 3
   },
   "file_extension": ".py",
   "mimetype": "text/x-python",
   "name": "python",
   "nbconvert_exporter": "python",
   "pygments_lexer": "ipython3",
   "version": "3.7.4"
  }
 },
 "nbformat": 4,
 "nbformat_minor": 2
}
